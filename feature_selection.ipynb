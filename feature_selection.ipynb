{
  "nbformat": 4,
  "nbformat_minor": 0,
  "metadata": {
    "colab": {
      "name": "feature_selection",
      "provenance": [],
      "collapsed_sections": []
    },
    "kernelspec": {
      "name": "python3",
      "display_name": "Python 3"
    },
    "language_info": {
      "name": "python"
    }
  },
  "cells": [
    {
      "cell_type": "code",
      "source": [
        "#importing all necessary \n",
        "from sklearn import preprocessing\n",
        "from sklearn.linear_model import LogisticRegression\n",
        "from sklearn.ensemble import RandomForestClassifier\n",
        "from sklearn.neural_network import MLPClassifier\n",
        "from sklearn.model_selection import train_test_split\n",
        "from sklearn.metrics import accuracy_score, f1_score, precision_score, recall_score, roc_auc_score\n",
        "from sklearn.impute import SimpleImputer\n",
        "from sklearn.datasets import make_classification\n",
        "RANDOM_STATE = 8\n",
        "from sklearn.metrics import confusion_matrix\n",
        "from sklearn.metrics import classification_report \n",
        "from sklearn.linear_model import LogisticRegression\n",
        "from sklearn.ensemble import RandomForestClassifier\n",
        "from sklearn.neural_network import MLPClassifier\n",
        "from xgboost import XGBClassifier\n",
        "from sklearn.ensemble import GradientBoostingClassifier\n",
        "from sklearn.model_selection import train_test_split\n",
        "from sklearn.metrics import accuracy_score, f1_score, precision_score, recall_score, roc_auc_score \n",
        "import matplotlib.pyplot as plt\n",
        "from sklearn.feature_selection import SelectKBest\n",
        "from sklearn.feature_selection import f_classif\n",
        "from matplotlib import pyplot\n",
        "import pandas as pd\n",
        "import seaborn as sns\n",
        "import numpy as np"
      ],
      "metadata": {
        "id": "OucAkA1uPSSz"
      },
      "execution_count": null,
      "outputs": []
    },
    {
      "cell_type": "code",
      "execution_count": null,
      "metadata": {
        "colab": {
          "base_uri": "https://localhost:8080/"
        },
        "id": "YLXkRhABPJOd",
        "outputId": "8ce20740-c6d0-4bbd-dd56-3120f4b57fa6"
      },
      "outputs": [
        {
          "output_type": "stream",
          "name": "stdout",
          "text": [
            "        Patient ID  Patient age quantile  Hematocrit  Hemoglobin  Platelets  \\\n",
            "0  126e9dd13932f68                    17    0.236515   -0.022340  -0.517413   \n",
            "1  8bb9d64f0215244                     1   -1.571682   -0.774212   1.429667   \n",
            "2  6c9d3323975b082                     9   -0.747693   -0.586244  -0.429480   \n",
            "3  d3ea751f3db9de9                    11    0.991838    0.792188   0.072992   \n",
            "4  2c2eae16c12a18a                     9    0.190738   -0.147652  -0.668155   \n",
            "\n",
            "   Red blood Cells  Lymphocytes  Leukocytes  Basophils  Eosinophils  ...  \\\n",
            "0         0.102004     0.318366   -0.094610  -0.223767     1.482158  ...   \n",
            "1        -0.850035    -0.005738    0.364550  -0.223767     1.018625  ...   \n",
            "2        -1.361315    -1.114514   -0.884923   0.081693    -0.666950  ...   \n",
            "3         0.542763     0.045436   -0.211488  -0.834685    -0.709090  ...   \n",
            "4        -0.127191     0.002791   -1.132592   0.387152    -0.709090  ...   \n",
            "\n",
            "   Serum Glucose  Neutrophils      Urea  Proteina C reativa mg/dL  Creatinine  \\\n",
            "0      -0.140648    -0.619086  1.198059                 -0.147895    2.089928   \n",
            "1      -0.413208    -0.127395 -0.067309                 -0.286986   -1.838623   \n",
            "2       0.000000     0.880570 -0.811643                  0.000000   -0.908177   \n",
            "3       0.000000     0.265957  0.000000                 -0.487674    0.000000   \n",
            "4      -0.837191    -0.422410 -1.332677                  0.000000   -0.908177   \n",
            "\n",
            "   Potassium    Sodium  Alanine transaminase  Aspartate transaminase  Label  \n",
            "0  -0.305787  0.862512              0.000000                0.000000      0  \n",
            "1   0.930020  0.503132             -0.586821               -0.162200      0  \n",
            "2   0.435697 -0.215628             -0.559257               -0.549287      0  \n",
            "3   0.000000  0.000000              0.000000                0.000000      0  \n",
            "4  -0.552949 -0.575008              0.000000                0.000000      0  \n",
            "\n",
            "[5 rows x 21 columns]\n",
            "     Patient age quantile  Hematocrit  Hemoglobin  Platelets  Red blood Cells  \\\n",
            "0                      17    0.236515   -0.022340  -0.517413         0.102004   \n",
            "1                       1   -1.571682   -0.774212   1.429667        -0.850035   \n",
            "2                       9   -0.747693   -0.586244  -0.429480        -1.361315   \n",
            "3                      11    0.991838    0.792188   0.072992         0.542763   \n",
            "4                       9    0.190738   -0.147652  -0.668155        -0.127191   \n",
            "..                    ...         ...         ...        ...              ...   \n",
            "595                    19    0.190738    0.165628  -0.102873         0.384090   \n",
            "596                    19   -0.289922   -0.523588   0.663397         0.754327   \n",
            "597                    15    0.717175    1.105468  -0.492289         0.613284   \n",
            "598                    17   -3.242548   -2.779203  -1.773594        -3.318285   \n",
            "599                    19    0.694287    0.541564  -0.906829         0.578024   \n",
            "\n",
            "     Lymphocytes  Leukocytes  Basophils  Eosinophils  Monocytes  \\\n",
            "0       0.318366   -0.094610  -0.223767     1.482158   0.357547   \n",
            "1      -0.005738    0.364550  -0.223767     1.018625   0.068652   \n",
            "2      -1.114514   -0.884923   0.081693    -0.666950   1.276759   \n",
            "3       0.045436   -0.211488  -0.834685    -0.709090  -0.220244   \n",
            "4       0.002791   -1.132592   0.387152    -0.709090   2.012129   \n",
            "..           ...         ...        ...          ...        ...   \n",
            "595    -1.583611   -0.328365  -0.834685     0.892207   1.066653   \n",
            "596    -1.532437    1.569499   0.081693    -0.540532   1.670707   \n",
            "597     0.002791   -0.550988  -0.223767    -0.709090   0.909074   \n",
            "598    -1.830953   -1.733675  -1.140144    -0.582671   1.381812   \n",
            "599    -0.295726   -1.288428  -1.140144    -0.835508   0.567652   \n",
            "\n",
            "     Serum Glucose  Neutrophils      Urea  Proteina C reativa mg/dL  \\\n",
            "0        -0.140648    -0.619086  1.198059                 -0.147895   \n",
            "1        -0.413208    -0.127395 -0.067309                 -0.286986   \n",
            "2         0.000000     0.880570 -0.811643                  0.000000   \n",
            "3         0.000000     0.265957  0.000000                 -0.487674   \n",
            "4        -0.837191    -0.422410 -1.332677                  0.000000   \n",
            "..             ...          ...       ...                       ...   \n",
            "595       2.433532     1.118221  0.379292                  3.627427   \n",
            "596       0.253050     1.134611 -0.067309                  5.733660   \n",
            "597       0.000000    -0.061837 -0.365042                  0.561468   \n",
            "598       0.041059     1.552548  2.240127                  0.609157   \n",
            "599       0.000000     0.380685  0.453725                 -0.503570   \n",
            "\n",
            "     Creatinine  Potassium    Sodium  Alanine transaminase  \\\n",
            "0      2.089928  -0.305787  0.862512              0.000000   \n",
            "1     -1.838623   0.930020  0.503132             -0.586821   \n",
            "2     -0.908177   0.435697 -0.215628             -0.559257   \n",
            "3      0.000000   0.000000  0.000000              0.000000   \n",
            "4     -0.908177  -0.552949 -0.575008              0.000000   \n",
            "..          ...        ...       ...                   ...   \n",
            "595    0.470262   0.188535 -5.246946              7.930663   \n",
            "596    0.504723  -0.552949 -0.215628              0.000000   \n",
            "597   -0.494645   0.435697  0.143752              0.874106   \n",
            "598    0.470262  -0.305787 -1.293767             -0.504127   \n",
            "599   -0.735872  -0.552949 -0.934388             -0.283610   \n",
            "\n",
            "     Aspartate transaminase  \n",
            "0                  0.000000  \n",
            "1                 -0.162200  \n",
            "2                 -0.549287  \n",
            "3                  0.000000  \n",
            "4                  0.000000  \n",
            "..                      ...  \n",
            "595                7.231172  \n",
            "596                0.000000  \n",
            "597                1.386150  \n",
            "598               -0.665414  \n",
            "599                0.108761  \n",
            "\n",
            "[600 rows x 19 columns]\n",
            "0      0\n",
            "1      0\n",
            "2      0\n",
            "3      0\n",
            "4      0\n",
            "      ..\n",
            "595    0\n",
            "596    0\n",
            "597    0\n",
            "598    0\n",
            "599    1\n",
            "Name: Label, Length: 600, dtype: int64\n"
          ]
        }
      ],
      "source": [
        "#Importing and Splitting the dataset\n",
        "dataset = pd.read_csv('clinics.csv')\n",
        "df = dataset.iloc[ : , :]\n",
        "print(df.head())\n",
        "X, y = dataset.iloc[:, 1:-1], dataset.iloc[:, -1]\n",
        "print(X)\n",
        "print(y)"
      ]
    },
    {
      "cell_type": "code",
      "source": [
        "from sklearn.ensemble import ExtraTreesClassifier\n",
        "import matplotlib.pyplot as plt\n",
        "index=[\"Patient age quantile\",\"Hematocrit\",\"Hemoglobin\",\"Platelets\",\"Red blood Cells\",\"Lymphocytes\",\"Leukocytes\",\"Basophils\",\"Eosinophils\",\"Monocytes\",\"Serum Glucose\",\"Neutrophils\",\"Urea\",\"Proteina C reativa mg/dL\",\"Creatinine\",\"Potassium\",\"Sodium\",\"Alanine transaminase\",\"Aspartate transaminase\"]\n",
        "model = ExtraTreesClassifier()\n",
        "model.fit(X,y)\n",
        "test = SelectKBest(score_func=f_classif, k=4)\n",
        "model.fit(X, y)\n",
        "print(model.feature_importances_) ## use inbuilt class feature_importances of tree based classifiers\n",
        "## plot graph of feature importances for better visualization\n",
        "plt.barh(index,model.feature_importances_)"
      ],
      "metadata": {
        "colab": {
          "base_uri": "https://localhost:8080/",
          "height": 352
        },
        "id": "6-RBnZ4WPwgv",
        "outputId": "39dce2e3-02ca-46ce-85e1-66b72af44fd0"
      },
      "execution_count": null,
      "outputs": [
        {
          "output_type": "stream",
          "name": "stdout",
          "text": [
            "[0.0565957  0.04637118 0.04448934 0.08563202 0.05078975 0.04486242\n",
            " 0.1344088  0.03771417 0.06895267 0.06635857 0.02853604 0.04094511\n",
            " 0.03948349 0.05678429 0.03963728 0.03935778 0.03755375 0.04205743\n",
            " 0.03947021]\n"
          ]
        },
        {
          "output_type": "execute_result",
          "data": {
            "text/plain": [
              "<BarContainer object of 19 artists>"
            ]
          },
          "metadata": {},
          "execution_count": 3
        },
        {
          "output_type": "display_data",
          "data": {
            "text/plain": [
              "<Figure size 432x288 with 1 Axes>"
            ],
            "image/png": "[encoded data removed]"
          },
          "metadata": {
            "needs_background": "light"
          }
        }
      ]
    },
    {
      "cell_type": "code",
      "source": [
        "from sklearn.ensemble import ExtraTreesClassifier\n",
        "import matplotlib.pyplot as plt\n",
        "index=[\"Patient age quantile\",\"Hematocrit\",\"Hemoglobin\",\"Platelets\",\"Red blood Cells\",\"Lymphocytes\",\"Leukocytes\",\"Basophils\",\"Eosinophils\",\"Monocytes\",\"Serum Glucose\",\"Neutrophils\",\"Urea\",\"Proteina C reativa mg/dL\",\"Creatinine\",\"Potassium\",\"Sodium\",\"Alanine transaminase\",\"Aspartate transaminase\"]\n",
        "model = ExtraTreesClassifier(criterion=\"entropy\")\n",
        "model.fit(X,y)\n",
        "print(model.feature_importances_) ## use inbuilt class feature_importances of tree based classifiers\n",
        "## plot graph of feature importances for better visualization\n",
        "#feat_importances = pd.Series(model.feature_importances_, index={\"Patient age quantile\",\"Hematocrit\",\"Hemoglobin\",\"Platelets\",\"Red blood Cells\",\"Lymphocytes\",\"Leukocytes\",\"Basophils\",\"Eosinophils\",\"Monocytes\",\"Serum Glucose\",\"Neutrophils\",\"Urea\",\"Proteina C reativa mg/dL\",\"Creatinine\",\"Potassium\",\"Sodium\",\"Alanine transaminase\",\"Aspartate transaminase\"})\n",
        "#feat_importances.nlargest(19).plot(kind='barh')\n",
        "plt.barh(index,model.feature_importances_)\n",
        "plt.title(\"importance of features in data\")\n",
        "plt.show()"
      ],
      "metadata": {
        "colab": {
          "base_uri": "https://localhost:8080/",
          "height": 350
        },
        "id": "8s-zZjnzXFV2",
        "outputId": "4b3a566f-ab9d-43cb-8e75-6ae3ac482fc3"
      },
      "execution_count": null,
      "outputs": [
        {
          "output_type": "stream",
          "name": "stdout",
          "text": [
            "[0.05709004 0.04508531 0.04399648 0.09658715 0.04937523 0.04424171\n",
            " 0.13449591 0.04243367 0.07071181 0.06625987 0.02744907 0.04166048\n",
            " 0.03719536 0.05527886 0.04172672 0.03772999 0.03507502 0.03360585\n",
            " 0.04000147]\n"
          ]
        },
        {
          "output_type": "display_data",
          "data": {
            "text/plain": [
              "<Figure size 432x288 with 1 Axes>"
            ],
            "image/png": "[encoded data removed]"
          },
          "metadata": {
            "needs_background": "light"
          }
        }
      ]
    },
    {
      "cell_type": "code",
      "source": [
        "from scipy import stats\n",
        "tau_values = []\n",
        "p_values = []\n",
        "col = [\"Patient age quantile\",\"Hematocrit\",\"Hemoglobin\",\"Platelets\",\"Red blood Cells\",\"Lymphocytes\",\"Leukocytes\",\"Basophils\",\"Eosinophils\",\"Monocytes\",\"Serum Glucose\",\"Neutrophils\",\"Urea\",\"Proteina C reativa mg/dL\",\"Creatinine\",\"Potassium\",\"Sodium\",\"Alanine transaminase\",\"Aspartate transaminase\"]\n",
        "for i in col:\n",
        "  tau,p_val = stats.kendalltau(X[i] , y)\n",
        "  tau_values.append(tau)\n",
        "  p_values.append(p_val)\n",
        "\n",
        "print(tau_values)\n",
        "print(p_values)\n",
        "plt.barh(col,tau_values)\n",
        "plt.title(\"importance of features in data\")\n",
        "plt.show()\n"
      ],
      "metadata": {
        "colab": {
          "base_uri": "https://localhost:8080/",
          "height": 336
        },
        "id": "FHdGIRMOPNFT",
        "outputId": "9f7955f5-b6d9-404f-c36d-7d6363183a80"
      },
      "execution_count": null,
      "outputs": [
        {
          "output_type": "stream",
          "name": "stdout",
          "text": [
            "[0.11908414029451944, 0.08675485440934941, 0.0899211775203541, -0.262811414829576, 0.09684155125082812, -0.012439055388081731, -0.30146874657349615, -0.0499897747103393, -0.20022679558423667, 0.15483139964959972, -0.00021508991246113216, -0.0161787641941323, -0.059884714422301324, 0.11427372687102776, 0.07167669876923717, -0.052410653197148306, -0.05502912746204852, 0.013525520866464826, 0.03149986009519151]\n",
            "[0.0005168947643487174, 0.00960354796761463, 0.0076234734297415735, 3.994409478548762e-15, 0.003821593346342465, 0.7098652931560526, 1.7952026511250067e-19, 0.15567223380380188, 3.6502332436408968e-09, 3.99119541881897e-06, 0.9954297095860951, 0.6315573144999647, 0.08780253354571169, 0.0007733443352705429, 0.038460869374799256, 0.1417171299808979, 0.126298219906677, 0.7172786325642093, 0.39930653322705145]\n"
          ]
        },
        {
          "output_type": "display_data",
          "data": {
            "text/plain": [
              "<Figure size 432x288 with 1 Axes>"
            ],
            "image/png": "[encoded data removed]"
          },
          "metadata": {
            "needs_background": "light"
          }
        }
      ]
    },
    {
      "cell_type": "code",
      "source": [
        "def get_train_test(dataset, mask_col=None):\n",
        "        \n",
        "    # splitting into train and test dataset\n",
        "\n",
        "    X, y = dataset.iloc[:, 1:-1], dataset.iloc[:, -1]\n",
        "\n",
        "    #X, y = make_classification(n_samples=100, n_features=15, n_classes=3,\n",
        "     #                           n_informative=4, n_redundant=1, n_repeated=2,\n",
        "      #                          random_state=1)\n",
        "\n",
        "    X, y = pd.DataFrame(X), pd.Series(y).values.ravel()\n",
        "    X_train, X_test, y_train, y_test = train_test_split(X, y, test_size=0.2, random_state=RANDOM_STATE)\n",
        "    if mask_col:\n",
        "        X_train, X_test = X_train[mask_col], X_test[mask_col]\n",
        "    print(\"Train Feature: {0}\\nTest Feature: {1}\\nTrain Target: {2}\\nTest Target: {3}\\n\".format(X_train.shape, X_test.shape, y_train.shape, y_test.shape))\n",
        "    \n",
        "    # bringing all of the features into a similar scale\n",
        "\n",
        "    scaler = preprocessing.StandardScaler()\n",
        "    scaler.fit_transform(X_train)\n",
        "    scaler.transform(X_test)\n",
        "\n",
        "    print(X_test.head())\n",
        "    \n",
        "    # imputing missing or invalid values\n",
        "\n",
        "    my_imputer = SimpleImputer()\n",
        "    X_train = my_imputer.fit_transform(X_train)\n",
        "    X_test = my_imputer.transform(X_test)\n",
        "    print(X_train)\n",
        "    return X_train, X_test, y_train, y_test, X, y"
      ],
      "metadata": {
        "id": "8m6MgqMPPcEo"
      },
      "execution_count": null,
      "outputs": []
    },
    {
      "cell_type": "code",
      "source": [
        "#imputed function\n",
        "X_train, X_test, y_train, y_test, X, y = get_train_test(df)"
      ],
      "metadata": {
        "colab": {
          "base_uri": "https://localhost:8080/"
        },
        "id": "a1Qih6l8PdDR",
        "outputId": "5cb3a28b-ddaf-4d60-fbe0-459834ed38e8"
      },
      "execution_count": null,
      "outputs": [
        {
          "output_type": "stream",
          "name": "stdout",
          "text": [
            "Train Feature: (480, 19)\n",
            "Test Feature: (120, 19)\n",
            "Train Target: (480,)\n",
            "Test Target: (120,)\n",
            "\n",
            "     Patient age quantile  Hematocrit  Hemoglobin  Platelets  Red blood Cells  \\\n",
            "521                     0   -1.182576   -0.836868  -0.153121         0.049113   \n",
            "107                    19   -0.862136   -0.774212  -2.276066        -1.061599   \n",
            "50                     18    1.106281    1.168124  -0.781211         0.313568   \n",
            "371                    18    0.556955    0.729532  -0.291300         0.207786   \n",
            "194                     3    1.014726    1.042812  -1.208313         1.001153   \n",
            "\n",
            "     Lymphocytes  Leukocytes  Basophils  Eosinophils  Monocytes  \\\n",
            "521    -1.438617    1.783774  -1.140144    -0.414114  -1.008140   \n",
            "107     0.096611   -1.828290   1.914447    -0.835508   1.092916   \n",
            "50      0.173372   -0.717956   0.998070     0.344395   3.246500   \n",
            "371    -0.850113    0.269936  -0.529226    -0.371974   0.541389   \n",
            "194    -0.526010   -1.302342  -0.223767    -0.456253   0.515126   \n",
            "\n",
            "     Serum Glucose  Neutrophils      Urea  Proteina C reativa mg/dL  \\\n",
            "521       0.000000     0.000000 -0.141742                 -0.386336   \n",
            "107       0.000000     0.000000 -0.588343                 -0.247246   \n",
            "50        0.000000    -1.192725 -1.183810                 -0.487674   \n",
            "371      -0.413208     0.815012  0.081558                 -0.124051   \n",
            "194       0.000000     0.446244  0.602592                 -0.483700   \n",
            "\n",
            "     Creatinine  Potassium    Sodium  Alanine transaminase  \\\n",
            "521   -2.010928  -0.800110 -2.012527             -0.366304   \n",
            "107   -0.666950   0.000000  0.000000              0.405507   \n",
            "50    -0.873716   0.682859  0.503132             -0.448998   \n",
            "371    0.677028  -1.047272 -0.215628              0.000000   \n",
            "194    0.435801   0.188535 -0.934388              0.460636   \n",
            "\n",
            "     Aspartate transaminase  \n",
            "521                0.302305  \n",
            "107                3.050627  \n",
            "50                -0.355744  \n",
            "371                0.000000  \n",
            "194                1.966781  \n",
            "[[19.         -2.53300214 -2.40326715 ...  0.50313175  1.23244715\n",
            "   2.23774266]\n",
            " [15.         -0.03814762 -0.3356202  ...  0.14375193  0.04716622\n",
            "   0.49584883]\n",
            " [14.          0.69428688  0.47890773 ...  0.          0.\n",
            "   0.        ]\n",
            " ...\n",
            " [ 2.         -0.4730309  -0.14765212 ... -0.93438756  0.\n",
            "   0.        ]\n",
            " [ 4.          0.87739527  1.16812372 ...  0.86251164 -0.31117451\n",
            "  -0.51057869]\n",
            " [ 0.         -1.70901322 -1.65139556 ...  0.          0.\n",
            "   0.        ]]\n"
          ]
        }
      ]
    },
    {
      "cell_type": "code",
      "source": [
        "X_train, X_test, y_train, y_test = train_test_split(X, y, test_size=0.2, random_state=8)"
      ],
      "metadata": {
        "id": "4sj2Ylo51Iaa"
      },
      "execution_count": null,
      "outputs": []
    },
    {
      "cell_type": "code",
      "source": [
        "#Anova\n",
        "def select_features(X_train, y_train, X_test):\n",
        "\t# configure to select all features\n",
        "\tfs = SelectKBest(score_func=f_classif, k='all')\n",
        "\t# learn relationship from training data\n",
        "\tfs.fit(X_train, y_train)\n",
        "\t# transform train input data\n",
        "\tX_train_fs = fs.transform(X_train)\n",
        "\t# transform test input data\n",
        "\tX_test_fs = fs.transform(X_test)\n",
        "\treturn X_train_fs, X_test_fs, fs"
      ],
      "metadata": {
        "id": "aDwGBmSLRmTS"
      },
      "execution_count": null,
      "outputs": []
    },
    {
      "cell_type": "code",
      "source": [
        "X_train_fs, X_test_fs, fs = select_features(X_train, y_train, X_test)\n",
        "# what are scores for the features\n",
        "for i in range(len(fs.scores_)):\n",
        "\tprint('Feature %d: %f' % (i, fs.scores_[i]))\n",
        "# plot the scores\n",
        "pyplot.bar([i for i in range(len(fs.scores_))], fs.scores_)\n",
        "pyplot.show()"
      ],
      "metadata": {
        "colab": {
          "base_uri": "https://localhost:8080/",
          "height": 595
        },
        "id": "PVkLaybuR0FU",
        "outputId": "3bdc4cf3-7717-4370-adb9-e11ce4f88573"
      },
      "execution_count": null,
      "outputs": [
        {
          "output_type": "stream",
          "name": "stdout",
          "text": [
            "Feature 0: 7.503961\n",
            "Feature 1: 5.380487\n",
            "Feature 2: 5.933514\n",
            "Feature 3: 34.895691\n",
            "Feature 4: 8.484920\n",
            "Feature 5: 1.201293\n",
            "Feature 6: 37.130845\n",
            "Feature 7: 1.719682\n",
            "Feature 8: 20.134082\n",
            "Feature 9: 13.195477\n",
            "Feature 10: 0.256310\n",
            "Feature 11: 0.008133\n",
            "Feature 12: 1.620984\n",
            "Feature 13: 2.179785\n",
            "Feature 14: 1.251748\n",
            "Feature 15: 1.944513\n",
            "Feature 16: 1.946431\n",
            "Feature 17: 4.727076\n",
            "Feature 18: 8.194520\n"
          ]
        },
        {
          "output_type": "display_data",
          "data": {
            "text/plain": [
              "<Figure size 432x288 with 1 Axes>"
            ],
            "image/png": "[encoded data removed]"
          },
          "metadata": {
            "needs_background": "light"
          }
        }
      ]
    }
  ]
}